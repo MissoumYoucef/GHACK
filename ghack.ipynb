{
 "cells": [
  {
   "cell_type": "code",
   "execution_count": 48,
   "metadata": {},
   "outputs": [
    {
     "name": "stdout",
     "output_type": "stream",
     "text": [
      "Requirement already satisfied: geopy in c:\\users\\misso\\appdata\\local\\programs\\python\\python311\\lib\\site-packages (2.4.1)\n",
      "Requirement already satisfied: geographiclib<3,>=1.52 in c:\\users\\misso\\appdata\\local\\programs\\python\\python311\\lib\\site-packages (from geopy) (2.0)\n"
     ]
    }
   ],
   "source": [
    "! pip install geopy\n"
   ]
  },
  {
   "cell_type": "code",
   "execution_count": 49,
   "metadata": {},
   "outputs": [],
   "source": [
    "import pandas as pd\n",
    "import numpy as np"
   ]
  },
  {
   "cell_type": "code",
   "execution_count": 50,
   "metadata": {},
   "outputs": [],
   "source": [
    "df = pd.read_json('suppliers_data.json')"
   ]
  },
  {
   "cell_type": "code",
   "execution_count": 51,
   "metadata": {},
   "outputs": [],
   "source": [
    "df['City'] = df['City'].str.lower()"
   ]
  },
  {
   "cell_type": "code",
   "execution_count": 52,
   "metadata": {},
   "outputs": [],
   "source": [
    "df.loc[3,'City']='alger'"
   ]
  },
  {
   "cell_type": "code",
   "execution_count": 53,
   "metadata": {},
   "outputs": [],
   "source": [
    "# Select rows where t:he Category column equals a specific value, for example 'SomeCategory'\n",
    "def wilaya(selected_wilaya):\n",
    "    return df[df['City'].str.strip() == selected_wilaya]"
   ]
  },
  {
   "cell_type": "code",
   "execution_count": 54,
   "metadata": {},
   "outputs": [
    {
     "data": {
      "text/plain": [
       "0     Importation et distribution de PDR poids lourd...\n",
       "1                              équipements de chauffage\n",
       "2     Importation et distribution de pièces de recha...\n",
       "3     équipements et accessoires pour véhicules • Or...\n",
       "4                                                  None\n",
       "5     Fabrication et commercialisation des batteries...\n",
       "6                              Association . Organisme.\n",
       "7               équipements pour le contrôle technique.\n",
       "8                                                  None\n",
       "9                                                  None\n",
       "10                                                 None\n",
       "11                                                 None\n",
       "12                                                 None\n",
       "13                      Firme représentée de PASTRY BOX\n",
       "14    Chocolat, produits chocolatés - Produits de bo...\n",
       "15     Cafés et thés - Eaux - Farines, levains, Levu...\n",
       "16                                                 None\n",
       "17           Firme représentée de GUNTNER GMBH & CO. KG\n",
       "18                                                 None\n",
       "19                                                 None\n",
       "20    Maintenance et réparation chauffage/ climatiseur.\n",
       "21                       Solution pesage et metrologie.\n",
       "22    Vente de stations de concassage, centrales ├á ...\n",
       "23       Promoteur immobilier pour le compte de l'Etat.\n",
       "24    Vente de matériel de travaux publics et équipe...\n",
       "25                 Fabrication de charpente métallique.\n",
       "26    Distribution accessoires de plombrie et chauff...\n",
       "27                                Promotion immobilier.\n",
       "28    Travaux d'usinage en conventionnel et en comma...\n",
       "29                   Coffrage, Echafaudage, Etaiements.\n",
       "30                 Import-export Materiel informatique.\n",
       "31                                   Opérateur télécom.\n",
       "32    Import-export Matériel informatique, bureautiq...\n",
       "33    Matériel et accessoires informatique / Consomm...\n",
       "34                   Importation matériel informatique.\n",
       "35    Constructeur matériel informatique et téléphonie.\n",
       "36                               Matériel informatique.\n",
       "37                  Distributeur Gigabyte et Kaspersky.\n",
       "38    Installation réseaux, telecommunication et élé...\n",
       "39                            Informatique et sécurité.\n",
       "Name: Activities/Services, dtype: object"
      ]
     },
     "execution_count": 54,
     "metadata": {},
     "output_type": "execute_result"
    }
   ],
   "source": [
    "wilaya('alger')\n",
    "df['Activities/Services']"
   ]
  },
  {
   "cell_type": "code",
   "execution_count": 56,
   "metadata": {},
   "outputs": [
    {
     "data": {
      "text/plain": [
       "1    N°32, Zone industrielle  , Alger , 16000, Alge...\n",
       "Name: Address, dtype: object"
      ]
     },
     "execution_count": 56,
     "metadata": {},
     "output_type": "execute_result"
    }
   ],
   "source": [
    "wilaya2('alger','équipements de chauffage')['Address']\n"
   ]
  },
  {
   "cell_type": "code",
   "execution_count": 57,
   "metadata": {},
   "outputs": [
    {
     "data": {
      "text/plain": [
       "array(['alger', 'alger', 'alger', 'alger', 'alger', 'alger', 'alger',\n",
       "       'alger', 'alger', 'alger', '', '', '', 'constantine (algérie)',\n",
       "       'bejaia (algérie)', '', 'alger (algérie)', 'setif (algérie)', '',\n",
       "       '', '', '', '', '', '', '', '', '', '', '', '', '', '', '', '', '',\n",
       "       '', '', '', ''], dtype=object)"
      ]
     },
     "execution_count": 57,
     "metadata": {},
     "output_type": "execute_result"
    }
   ],
   "source": [
    "Cities= df['City']\n",
    "Cities.values\n"
   ]
  },
  {
   "cell_type": "code",
   "execution_count": 58,
   "metadata": {},
   "outputs": [
    {
     "data": {
      "text/plain": [
       "['Fabrication de charpente métallique.',\n",
       " 'Import-export Materiel informatique.',\n",
       " 'Constructeur matériel informatique et téléphonie.',\n",
       " 'Importation et distribution de PDR poids lourds et remorques.',\n",
       " 'Vente de stations de concassage, centrales ├á béton, filtres ├á manche COMACO, portes engins, piéces de rechanges engins TP et grues et maintenance.',\n",
       " 'équipements et accessoires pour véhicules • Organes et accessoires de direction de suspension et de freinage • Pneumatiques et accessoires.',\n",
       " 'Distribution accessoires de plombrie et chauffage, chaudiére, radiateurs, robinetterie.',\n",
       " 'Matériel et accessoires informatique / Consommable bureau.',\n",
       " 'Firme représentée de GUNTNER GMBH & CO. KG',\n",
       " \"Promoteur immobilier pour le compte de l'Etat.\",\n",
       " 'Import-export Matériel informatique, bureautique consommable.',\n",
       " \" Cafés et thés - Eaux - Farines, levains, Levures - Fruits et légumes (frais, secs, conserve,...), confitures - Pyátes alimentaires, riz et semoules / Coffee and tea - Flours, leavens, yeast - Fruits and vegetables [fresh, dried, canned,...), jams - Pasta products, rice, semolina - Waters Marché(s) / Market(s) : Boulangers - Pyátissiers Bakers - Pastry cooks - Commerçants - Détaillants / Traders - Retailers and wholesalers - Couscous TAAM Laghouat - Germe de blé Ksar El Boukhari - Son de blé Ksar El Boukhari - Germe de blé Blida - Pyátes alimentaires Sétif - Pyátes alimentaires Djelfa - Semoule d'orge Sétif - Son cubé Baghlia\",\n",
       " 'Promotion immobilier.',\n",
       " 'équipements pour le contrôle technique.',\n",
       " \"Travaux d'usinage en conventionnel et en commande numérique la cimenterie, briqueterie etfaiencerie.\",\n",
       " 'Importation et distribution de pièces de rechange pour engins.',\n",
       " 'Importation matériel informatique.',\n",
       " 'Coffrage, Echafaudage, Etaiements.',\n",
       " 'Distributeur Gigabyte et Kaspersky.',\n",
       " 'Opérateur télécom.',\n",
       " 'Maintenance et réparation chauffage/ climatiseur.',\n",
       " 'Association . Organisme.',\n",
       " 'équipements de chauffage',\n",
       " 'Firme représentée de PASTRY BOX',\n",
       " 'Solution pesage et metrologie.',\n",
       " 'Vente de matériel de travaux publics et équipements de byátiment.',\n",
       " 'Matériel informatique.',\n",
       " 'Fabrication et commercialisation des batteries de démarrage.',\n",
       " 'Chocolat, produits chocolatés - Produits de boulangerie et de pyátisserie - Produits de boulangerie industrielle - Produits de pyátisserie industrielle - Produits semi finis de la boulangerie et de la pyátisserie / Bakery and pastry products - Chocolate, chocolate products - Industrial bakery products - Industrial pastry products - Semi finished products for bakery and pastry Marché(s) / Market(s) : Boulangers - Pyátissiers / Ba-kers - Pastry cooks - Industriels agro-alimentaires / Food and beverage manufacturers',\n",
       " 'Installation réseaux, telecommunication et éléctrique.',\n",
       " 'Informatique et sécurité.']"
      ]
     },
     "execution_count": 58,
     "metadata": {},
     "output_type": "execute_result"
    }
   ],
   "source": [
    "random_values=set(df['Activities/Services'].values)\n",
    "random_values = [i for i in  random_values if i !=None ]\n",
    "random_values"
   ]
  },
  {
   "cell_type": "code",
   "execution_count": 59,
   "metadata": {},
   "outputs": [
    {
     "data": {
      "text/plain": [
       "0     Importation et distribution de PDR poids lourd...\n",
       "1                              équipements de chauffage\n",
       "2     Importation et distribution de pièces de recha...\n",
       "3     équipements et accessoires pour véhicules • Or...\n",
       "4                  Fabrication de charpente métallique.\n",
       "5     Fabrication et commercialisation des batteries...\n",
       "6                              Association . Organisme.\n",
       "7               équipements pour le contrôle technique.\n",
       "8      Cafés et thés - Eaux - Farines, levains, Levu...\n",
       "9                    Importation matériel informatique.\n",
       "10                      Firme représentée de PASTRY BOX\n",
       "11                 Fabrication de charpente métallique.\n",
       "12              équipements pour le contrôle technique.\n",
       "13                      Firme représentée de PASTRY BOX\n",
       "14    Chocolat, produits chocolatés - Produits de bo...\n",
       "15     Cafés et thés - Eaux - Farines, levains, Levu...\n",
       "16                                Promotion immobilier.\n",
       "17           Firme représentée de GUNTNER GMBH & CO. KG\n",
       "18                  Distributeur Gigabyte et Kaspersky.\n",
       "19                             équipements de chauffage\n",
       "20    Maintenance et réparation chauffage/ climatiseur.\n",
       "21                       Solution pesage et metrologie.\n",
       "22    Vente de stations de concassage, centrales ├á ...\n",
       "23       Promoteur immobilier pour le compte de l'Etat.\n",
       "24    Vente de matériel de travaux publics et équipe...\n",
       "25                 Fabrication de charpente métallique.\n",
       "26    Distribution accessoires de plombrie et chauff...\n",
       "27                                Promotion immobilier.\n",
       "28    Travaux d'usinage en conventionnel et en comma...\n",
       "29                   Coffrage, Echafaudage, Etaiements.\n",
       "30                 Import-export Materiel informatique.\n",
       "31                                   Opérateur télécom.\n",
       "32    Import-export Matériel informatique, bureautiq...\n",
       "33    Matériel et accessoires informatique / Consomm...\n",
       "34                   Importation matériel informatique.\n",
       "35    Constructeur matériel informatique et téléphonie.\n",
       "36                               Matériel informatique.\n",
       "37                  Distributeur Gigabyte et Kaspersky.\n",
       "38    Installation réseaux, telecommunication et élé...\n",
       "39                            Informatique et sécurité.\n",
       "Name: Activities/Services, dtype: object"
      ]
     },
     "execution_count": 59,
     "metadata": {},
     "output_type": "execute_result"
    }
   ],
   "source": [
    "df['Activities/Services'].fillna(pd.Series(np.random.choice(random_values, size=len(df.index))), inplace=True)\n",
    "df['Activities/Services']"
   ]
  },
  {
   "cell_type": "code",
   "execution_count": 60,
   "metadata": {},
   "outputs": [],
   "source": [
    "wilayas_of_algeria= [\n",
    "    \"adrar\", \"chlef\", \"laghouat\", \"oum el bouaghi\", \"batna\", \"bejaia\",\n",
    "    \"biskra\", \"bechar\", \"blida\", \"bouira\", \"tamanrasset\", \"tebessa\",\n",
    "    \"tlemcen\", \"tiaret\", \"tizi ouzou\", \"algiers\", \"djelfa\", \"jijel\",\n",
    "    \"setif\", \"saida\", \"skikda\", \"sidi bel abbes\", \"annaba\", \"guelma\",\n",
    "    \"constantine\", \"medea\", \"mostaganem\", \"m'sila\", \"mascara\", \"ouargla\",\n",
    "    \"oran\", \"el bayadh\", \"illizi\", \"bordj bou arreridj\", \"boumerdes\",\n",
    "    \"el tarf\", \"tindouf\", \"tissemsilt\", \"el oued\", \"khenchela\", \"souk ahras\",\n",
    "    \"tipaza\", \"mila\", \"ain defla\", \"naama\", \"ain temouchent\", \"ghardaia\",\n",
    "    \"relizane\", \"el m'ghair\", \"bordj badji mokhtar\", \"ouled djellal\",\n",
    "    \"beni abbes\", \"timimoun\", \"touggourt\", \"djanet\", \"in salah\", \"in guezzam\",\n",
    "    \"el menia\"\n",
    "]\n"
   ]
  },
  {
   "cell_type": "code",
   "execution_count": 61,
   "metadata": {},
   "outputs": [
    {
     "data": {
      "text/plain": [
       "0              alger\n",
       "1              alger\n",
       "2              alger\n",
       "3              alger\n",
       "4              alger\n",
       "5              alger\n",
       "6              alger\n",
       "7              alger\n",
       "8              alger\n",
       "9              alger\n",
       "10        tissemsilt\n",
       "11              mila\n",
       "12            bejaia\n",
       "13       constantine\n",
       "14            bejaia\n",
       "15             saida\n",
       "16             alger\n",
       "17             setif\n",
       "18           tlemcen\n",
       "19          relizane\n",
       "20           el tarf\n",
       "21            bouira\n",
       "22    sidi bel abbes\n",
       "23            bouira\n",
       "24           tindouf\n",
       "25        mostaganem\n",
       "26             saida\n",
       "27          relizane\n",
       "28             setif\n",
       "29              mila\n",
       "30             setif\n",
       "31             saida\n",
       "32             batna\n",
       "33              oran\n",
       "34          in salah\n",
       "35        beni abbes\n",
       "36     ouled djellal\n",
       "37           el tarf\n",
       "38             batna\n",
       "39        tizi ouzou\n",
       "Name: City, dtype: object"
      ]
     },
     "execution_count": 61,
     "metadata": {},
     "output_type": "execute_result"
    }
   ],
   "source": [
    "df['City'].replace('',np.nan,inplace=True)\n",
    "df['City'].fillna(pd.Series(np.random.choice(wilayas_of_algeria, size=len(df.index))), inplace=True)\n",
    "df['City'] = df['City'].str.replace(' \\(algérie\\)', '', regex=True)\n",
    "df['City']"
   ]
  },
  {
   "cell_type": "code",
   "execution_count": 62,
   "metadata": {},
   "outputs": [
    {
     "name": "stdout",
     "output_type": "stream",
     "text": [
      "(48.8534951, 2.3483915)\n",
      "(50.1106444, 8.6820917)\n",
      "{'place_id': 152571305, 'licence': 'Data © OpenStreetMap contributors, ODbL 1.0. http://osm.org/copyright', 'osm_type': 'relation', 'osm_id': 62400, 'lat': '50.1106444', 'lon': '8.6820917', 'class': 'boundary', 'type': 'administrative', 'place_rank': 12, 'importance': 0.6941325622496303, 'addresstype': 'city', 'name': 'Frankfurt am Main', 'display_name': 'Frankfurt am Main, Hessen, Deutschland', 'boundingbox': ['50.0153529', '50.2271424', '8.4727605', '8.8004049']}\n"
     ]
    }
   ],
   "source": [
    "from geopy.geocoders import Nominatim\n",
    "geolocator = Nominatim(user_agent=\"myuse\")\n",
    "location = geolocator.geocode(\"Paris\")\n",
    "print((location.latitude, location.longitude))\n",
    "location = geolocator.geocode(\"frankfurt\")\n",
    "print((location.latitude, location.longitude))\n",
    "print(location.raw)"
   ]
  },
  {
   "cell_type": "code",
   "execution_count": 63,
   "metadata": {},
   "outputs": [
    {
     "name": "stdout",
     "output_type": "stream",
     "text": [
      "1654508.701463851\n"
     ]
    }
   ],
   "source": [
    "from geopy.distance import geodesic\n",
    "print(geodesic((51.4893335, -0.14405508452768728), (36.7753606, 3.0601882)).meters)"
   ]
  },
  {
   "cell_type": "code",
   "execution_count": 64,
   "metadata": {},
   "outputs": [
    {
     "data": {
      "text/plain": [
       "array(['alger', 'tissemsilt', 'mila', 'bejaia', 'constantine', 'saida',\n",
       "       'setif', 'tlemcen', 'relizane', 'el tarf', 'bouira',\n",
       "       'sidi bel abbes', 'tindouf', 'mostaganem', 'batna', 'oran',\n",
       "       'in salah', 'beni abbes', 'ouled djellal', 'tizi ouzou'],\n",
       "      dtype=object)"
      ]
     },
     "execution_count": 64,
     "metadata": {},
     "output_type": "execute_result"
    }
   ],
   "source": [
    "wilayas=df['City'].unique()\n",
    "wilayas"
   ]
  },
  {
   "cell_type": "code",
   "execution_count": 65,
   "metadata": {},
   "outputs": [
    {
     "name": "stdout",
     "output_type": "stream",
     "text": [
      "[{'alger': (36.7753606, 3.0601882)}, {'tissemsilt': (35.785897500000004, 1.8340956752427218)}, {'mila': (36.2502135, 6.165216333385166)}, {'bejaia': (36.7511783, 5.0643687)}, {'constantine': (36.3641642, 6.6084281)}, {'saida': (34.743349, 0.2440763627808458)}, {'setif': (36.1895852, 5.4024656)}, {'tlemcen': (34.881789, -1.316699)}, {'relizane': (35.836318500000004, 0.9118537366540664)}, {'el tarf': (36.67135625, 8.070134002053635)}, {'bouira': (36.2316481, 3.9082579191011253)}, {'sidi bel abbes': (34.682268, -0.43575550651239253)}, {'tindouf': (27.54390695, -6.239925131375032)}, {'mostaganem': (36.0026915, 0.3686866818796205)}, {'batna': (35.3384291, 5.731545299000572)}, {'oran': (35.7044415, -0.6502981)}, {'in salah': (27.197705499999998, 3.5212375793144277)}, {'beni abbes': (29.083202, -2.65900601043017)}, {'ouled djellal': (34.104904000000005, 4.820300902475401)}, {'tizi ouzou': (36.6816175, 4.237186047040007)}]\n"
     ]
    }
   ],
   "source": [
    "coordinates=[]\n",
    "for i in wilayas:\n",
    "    if geolocator.geocode(i)!=None:\n",
    "        coordinates.append({i:(geolocator.geocode(i).latitude, geolocator.geocode(i).longitude)})\n",
    "print(coordinates)"
   ]
  },
  {
   "cell_type": "code",
   "execution_count": 66,
   "metadata": {},
   "outputs": [
    {
     "data": {
      "text/plain": [
       "{'tissemsilt': [{'tissemsilt': 0.0},\n",
       "  {'relizane': 83.53780392456123},\n",
       "  {'mostaganem': 134.47036099719682},\n",
       "  {'alger': 155.52601515221002},\n",
       "  {'saida': 185.22784418713152},\n",
       "  {'bouira': 193.41938648257147},\n",
       "  {'oran': 224.8961604388018},\n",
       "  {'tizi ouzou': 237.78768371900492},\n",
       "  {'sidi bel abbes': 240.16285163958597},\n",
       "  {'tlemcen': 303.4933139388525},\n",
       "  {'bejaia': 309.3739853825716},\n",
       "  {'setif': 324.8702923833107},\n",
       "  {'ouled djellal': 330.4113334035318},\n",
       "  {'batna': 356.78634748476},\n",
       "  {'mila': 393.77080471989996},\n",
       "  {'constantine': 434.77619514315967},\n",
       "  {'el tarf': 569.0716778787594},\n",
       "  {'beni abbes': 854.7289370044042},\n",
       "  {'in salah': 965.5935868947928},\n",
       "  {'tindouf': 1191.2396532780135}]}"
      ]
     },
     "execution_count": 66,
     "metadata": {},
     "output_type": "execute_result"
    }
   ],
   "source": [
    "from geopy.distance import geodesic\n",
    "distances=[]\n",
    "for i in coordinates:\n",
    "    b=[]\n",
    "    for j in coordinates:\n",
    "        for c in i:\n",
    "            for k in j:\n",
    "                b.append({k:geodesic(i[c], j[k]).kilometers})\n",
    "        sorted_data = sorted(b, key=lambda x: next(iter(x.values())))\n",
    "    for c in i:\n",
    "        distances.append({c:sorted_data})\n",
    "distances[1]"
   ]
  },
  {
   "cell_type": "code",
   "execution_count": 67,
   "metadata": {},
   "outputs": [
    {
     "data": {
      "text/plain": [
       "{'tissemsilt': ['tissemsilt',\n",
       "  'relizane',\n",
       "  'mostaganem',\n",
       "  'alger',\n",
       "  'saida',\n",
       "  'bouira',\n",
       "  'oran',\n",
       "  'tizi ouzou',\n",
       "  'sidi bel abbes',\n",
       "  'tlemcen',\n",
       "  'bejaia',\n",
       "  'setif',\n",
       "  'ouled djellal',\n",
       "  'batna',\n",
       "  'mila',\n",
       "  'constantine',\n",
       "  'el tarf',\n",
       "  'beni abbes',\n",
       "  'in salah',\n",
       "  'tindouf']}"
      ]
     },
     "execution_count": 67,
     "metadata": {},
     "output_type": "execute_result"
    }
   ],
   "source": [
    "dists=[]\n",
    "for i in distances:\n",
    "    b=[]\n",
    "    for j in i:\n",
    "        for k in i[j]:\n",
    "            for d in k:\n",
    "                b.append(d)\n",
    "        dists.append({j:b})\n",
    "dists[1]"
   ]
  },
  {
   "cell_type": "code",
   "execution_count": 68,
   "metadata": {},
   "outputs": [
    {
     "data": {
      "text/plain": [
       "array([''], dtype=object)"
      ]
     },
     "execution_count": 68,
     "metadata": {},
     "output_type": "execute_result"
    }
   ],
   "source": [
    "# Inserting a new column 'nearest distance' at index 1 with a list of values\n",
    "df.insert(4, 'nearest distance','')\n",
    "a=df['nearest distance'].unique()\n",
    "a"
   ]
  },
  {
   "cell_type": "code",
   "execution_count": 69,
   "metadata": {},
   "outputs": [
    {
     "data": {
      "text/plain": [
       "Index(['Sector', 'Label', 'Address', 'Activities/Services', 'nearest distance',\n",
       "       'Postal Code', 'Phone Number', 'Creation Year', 'Number of Employees',\n",
       "       'City', 'Website', 'Entreprise Type', 'Email'],\n",
       "      dtype='object')"
      ]
     },
     "execution_count": 69,
     "metadata": {},
     "output_type": "execute_result"
    }
   ],
   "source": [
    "df.columns"
   ]
  },
  {
   "cell_type": "code",
   "execution_count": 70,
   "metadata": {},
   "outputs": [
    {
     "data": {
      "text/html": [
       "<div>\n",
       "<style scoped>\n",
       "    .dataframe tbody tr th:only-of-type {\n",
       "        vertical-align: middle;\n",
       "    }\n",
       "\n",
       "    .dataframe tbody tr th {\n",
       "        vertical-align: top;\n",
       "    }\n",
       "\n",
       "    .dataframe thead th {\n",
       "        text-align: right;\n",
       "    }\n",
       "</style>\n",
       "<table border=\"1\" class=\"dataframe\">\n",
       "  <thead>\n",
       "    <tr style=\"text-align: right;\">\n",
       "      <th></th>\n",
       "      <th>Sector</th>\n",
       "      <th>Label</th>\n",
       "      <th>Address</th>\n",
       "      <th>Activities/Services</th>\n",
       "      <th>nearest distance</th>\n",
       "      <th>Postal Code</th>\n",
       "      <th>Phone Number</th>\n",
       "      <th>Creation Year</th>\n",
       "      <th>Number of Employees</th>\n",
       "      <th>City</th>\n",
       "      <th>Website</th>\n",
       "      <th>Entreprise Type</th>\n",
       "      <th>Email</th>\n",
       "    </tr>\n",
       "  </thead>\n",
       "  <tbody>\n",
       "    <tr>\n",
       "      <th>0</th>\n",
       "      <td>Industrie</td>\n",
       "      <td>AErM DISTRIBUTION</td>\n",
       "      <td>Z.I des Eucalyptus,  , ALGER, 16000, Algeria.</td>\n",
       "      <td>Importation et distribution de PDR poids lourd...</td>\n",
       "      <td></td>\n",
       "      <td>16000</td>\n",
       "      <td>+213550416703</td>\n",
       "      <td>2010</td>\n",
       "      <td></td>\n",
       "      <td>alger</td>\n",
       "      <td>http://www.am-company.com</td>\n",
       "      <td>SARL</td>\n",
       "      <td>info@am-company.com</td>\n",
       "    </tr>\n",
       "    <tr>\n",
       "      <th>1</th>\n",
       "      <td>Industrie</td>\n",
       "      <td>AD MOTORS</td>\n",
       "      <td>N°32, Zone industrielle  , Alger , 16000, Alge...</td>\n",
       "      <td>équipements de chauffage</td>\n",
       "      <td></td>\n",
       "      <td>16000</td>\n",
       "      <td>+21321526293</td>\n",
       "      <td>2010</td>\n",
       "      <td></td>\n",
       "      <td>alger</td>\n",
       "      <td>admotors-dz.com</td>\n",
       "      <td>SARL</td>\n",
       "      <td>y.hammoutene@admotors-dz.com</td>\n",
       "    </tr>\n",
       "    <tr>\n",
       "      <th>2</th>\n",
       "      <td>Industrie</td>\n",
       "      <td>AFRIQUE ENGINS SARL</td>\n",
       "      <td>Coopérative Camps li N°  , Alger, 16000, Algeria.</td>\n",
       "      <td>Importation et distribution de pièces de recha...</td>\n",
       "      <td></td>\n",
       "      <td>16000</td>\n",
       "      <td>+21323707272</td>\n",
       "      <td>2010</td>\n",
       "      <td></td>\n",
       "      <td>alger</td>\n",
       "      <td></td>\n",
       "      <td>SARL</td>\n",
       "      <td>africengines@yahoo.fr</td>\n",
       "    </tr>\n",
       "    <tr>\n",
       "      <th>3</th>\n",
       "      <td>Industrie</td>\n",
       "      <td>ARIBI IMPORT EURL</td>\n",
       "      <td>Local N°2 Ouled Addi  , MÔÇÖsila, 28014, Algeria.</td>\n",
       "      <td>équipements et accessoires pour véhicules • Or...</td>\n",
       "      <td></td>\n",
       "      <td>28014</td>\n",
       "      <td>+21335598327</td>\n",
       "      <td>2010</td>\n",
       "      <td></td>\n",
       "      <td>alger</td>\n",
       "      <td>hotmail.com</td>\n",
       "      <td>SARL</td>\n",
       "      <td>eurlaribi@hotmail.com</td>\n",
       "    </tr>\n",
       "    <tr>\n",
       "      <th>4</th>\n",
       "      <td>Industrie</td>\n",
       "      <td>AUTO PARTS EURL</td>\n",
       "      <td>Cité Douzi 04 n°09, Bab ezouar,  Alger, 16000,...</td>\n",
       "      <td>Fabrication de charpente métallique.</td>\n",
       "      <td></td>\n",
       "      <td>16000</td>\n",
       "      <td>+213550543083</td>\n",
       "      <td>2010</td>\n",
       "      <td></td>\n",
       "      <td>alger</td>\n",
       "      <td></td>\n",
       "      <td>SARL</td>\n",
       "      <td>hamia.nacer@gmail.com</td>\n",
       "    </tr>\n",
       "  </tbody>\n",
       "</table>\n",
       "</div>"
      ],
      "text/plain": [
       "      Sector                Label  \\\n",
       "0  Industrie    AErM DISTRIBUTION   \n",
       "1  Industrie            AD MOTORS   \n",
       "2  Industrie  AFRIQUE ENGINS SARL   \n",
       "3  Industrie    ARIBI IMPORT EURL   \n",
       "4  Industrie      AUTO PARTS EURL   \n",
       "\n",
       "                                             Address  \\\n",
       "0      Z.I des Eucalyptus,  , ALGER, 16000, Algeria.   \n",
       "1  N°32, Zone industrielle  , Alger , 16000, Alge...   \n",
       "2  Coopérative Camps li N°  , Alger, 16000, Algeria.   \n",
       "3  Local N°2 Ouled Addi  , MÔÇÖsila, 28014, Algeria.   \n",
       "4  Cité Douzi 04 n°09, Bab ezouar,  Alger, 16000,...   \n",
       "\n",
       "                                 Activities/Services nearest distance  \\\n",
       "0  Importation et distribution de PDR poids lourd...                    \n",
       "1                           équipements de chauffage                    \n",
       "2  Importation et distribution de pièces de recha...                    \n",
       "3  équipements et accessoires pour véhicules • Or...                    \n",
       "4               Fabrication de charpente métallique.                    \n",
       "\n",
       "  Postal Code   Phone Number  Creation Year Number of Employees   City  \\\n",
       "0       16000  +213550416703           2010                      alger   \n",
       "1       16000   +21321526293           2010                      alger   \n",
       "2       16000   +21323707272           2010                      alger   \n",
       "3       28014   +21335598327           2010                      alger   \n",
       "4       16000  +213550543083           2010                      alger   \n",
       "\n",
       "                     Website Entreprise Type                         Email  \n",
       "0  http://www.am-company.com            SARL           info@am-company.com  \n",
       "1            admotors-dz.com            SARL  y.hammoutene@admotors-dz.com  \n",
       "2                                       SARL         africengines@yahoo.fr  \n",
       "3                hotmail.com            SARL         eurlaribi@hotmail.com  \n",
       "4                                       SARL         hamia.nacer@gmail.com  "
      ]
     },
     "execution_count": 70,
     "metadata": {},
     "output_type": "execute_result"
    }
   ],
   "source": [
    "df.head()"
   ]
  },
  {
   "cell_type": "code",
   "execution_count": 71,
   "metadata": {},
   "outputs": [
    {
     "data": {
      "text/plain": [
       "array([''], dtype=object)"
      ]
     },
     "execution_count": 71,
     "metadata": {},
     "output_type": "execute_result"
    }
   ],
   "source": [
    "a=df['nearest distance'].unique()\n",
    "a"
   ]
  },
  {
   "cell_type": "code",
   "execution_count": 72,
   "metadata": {},
   "outputs": [
    {
     "name": "stdout",
     "output_type": "stream",
     "text": [
      "alger\n",
      "tissemsilt\n",
      "mila\n",
      "bejaia\n",
      "constantine\n",
      "saida\n",
      "setif\n",
      "tlemcen\n",
      "relizane\n",
      "el tarf\n",
      "bouira\n",
      "sidi bel abbes\n",
      "tindouf\n",
      "mostaganem\n",
      "batna\n",
      "oran\n",
      "in salah\n",
      "beni abbes\n",
      "ouled djellal\n",
      "tizi ouzou\n"
     ]
    }
   ],
   "source": [
    "for d in dists:\n",
    "    for l in d:\n",
    "        print(l)"
   ]
  },
  {
   "cell_type": "code",
   "execution_count": 73,
   "metadata": {},
   "outputs": [
    {
     "name": "stdout",
     "output_type": "stream",
     "text": [
      "['alger', 'bouira', 'tizi ouzou', 'tissemsilt', 'bejaia', 'relizane', 'setif', 'mostaganem', 'mila', 'batna', 'constantine', 'ouled djellal', 'saida', 'oran', 'sidi bel abbes', 'el tarf', 'tlemcen', 'beni abbes', 'in salah', 'tindouf']\n",
      "['alger', 'bouira', 'tizi ouzou', 'tissemsilt', 'bejaia', 'relizane', 'setif', 'mostaganem', 'mila', 'batna', 'constantine', 'ouled djellal', 'saida', 'oran', 'sidi bel abbes', 'el tarf', 'tlemcen', 'beni abbes', 'in salah', 'tindouf']\n",
      "['alger', 'bouira', 'tizi ouzou', 'tissemsilt', 'bejaia', 'relizane', 'setif', 'mostaganem', 'mila', 'batna', 'constantine', 'ouled djellal', 'saida', 'oran', 'sidi bel abbes', 'el tarf', 'tlemcen', 'beni abbes', 'in salah', 'tindouf']\n",
      "['alger', 'bouira', 'tizi ouzou', 'tissemsilt', 'bejaia', 'relizane', 'setif', 'mostaganem', 'mila', 'batna', 'constantine', 'ouled djellal', 'saida', 'oran', 'sidi bel abbes', 'el tarf', 'tlemcen', 'beni abbes', 'in salah', 'tindouf']\n",
      "['alger', 'bouira', 'tizi ouzou', 'tissemsilt', 'bejaia', 'relizane', 'setif', 'mostaganem', 'mila', 'batna', 'constantine', 'ouled djellal', 'saida', 'oran', 'sidi bel abbes', 'el tarf', 'tlemcen', 'beni abbes', 'in salah', 'tindouf']\n",
      "['alger', 'bouira', 'tizi ouzou', 'tissemsilt', 'bejaia', 'relizane', 'setif', 'mostaganem', 'mila', 'batna', 'constantine', 'ouled djellal', 'saida', 'oran', 'sidi bel abbes', 'el tarf', 'tlemcen', 'beni abbes', 'in salah', 'tindouf']\n",
      "['alger', 'bouira', 'tizi ouzou', 'tissemsilt', 'bejaia', 'relizane', 'setif', 'mostaganem', 'mila', 'batna', 'constantine', 'ouled djellal', 'saida', 'oran', 'sidi bel abbes', 'el tarf', 'tlemcen', 'beni abbes', 'in salah', 'tindouf']\n",
      "['alger', 'bouira', 'tizi ouzou', 'tissemsilt', 'bejaia', 'relizane', 'setif', 'mostaganem', 'mila', 'batna', 'constantine', 'ouled djellal', 'saida', 'oran', 'sidi bel abbes', 'el tarf', 'tlemcen', 'beni abbes', 'in salah', 'tindouf']\n",
      "['alger', 'bouira', 'tizi ouzou', 'tissemsilt', 'bejaia', 'relizane', 'setif', 'mostaganem', 'mila', 'batna', 'constantine', 'ouled djellal', 'saida', 'oran', 'sidi bel abbes', 'el tarf', 'tlemcen', 'beni abbes', 'in salah', 'tindouf']\n",
      "['alger', 'bouira', 'tizi ouzou', 'tissemsilt', 'bejaia', 'relizane', 'setif', 'mostaganem', 'mila', 'batna', 'constantine', 'ouled djellal', 'saida', 'oran', 'sidi bel abbes', 'el tarf', 'tlemcen', 'beni abbes', 'in salah', 'tindouf']\n",
      "['tissemsilt', 'relizane', 'mostaganem', 'alger', 'saida', 'bouira', 'oran', 'tizi ouzou', 'sidi bel abbes', 'tlemcen', 'bejaia', 'setif', 'ouled djellal', 'batna', 'mila', 'constantine', 'el tarf', 'beni abbes', 'in salah', 'tindouf']\n",
      "['mila', 'constantine', 'setif', 'batna', 'bejaia', 'el tarf', 'tizi ouzou', 'bouira', 'ouled djellal', 'alger', 'tissemsilt', 'relizane', 'mostaganem', 'saida', 'oran', 'sidi bel abbes', 'tlemcen', 'in salah', 'beni abbes', 'tindouf']\n",
      "['bejaia', 'setif', 'tizi ouzou', 'mila', 'bouira', 'constantine', 'batna', 'alger', 'el tarf', 'ouled djellal', 'tissemsilt', 'relizane', 'mostaganem', 'saida', 'oran', 'sidi bel abbes', 'tlemcen', 'in salah', 'beni abbes', 'tindouf']\n",
      "['constantine', 'mila', 'setif', 'el tarf', 'batna', 'bejaia', 'tizi ouzou', 'bouira', 'ouled djellal', 'alger', 'tissemsilt', 'relizane', 'mostaganem', 'saida', 'oran', 'sidi bel abbes', 'tlemcen', 'in salah', 'beni abbes', 'tindouf']\n",
      "['bejaia', 'setif', 'tizi ouzou', 'mila', 'bouira', 'constantine', 'batna', 'alger', 'el tarf', 'ouled djellal', 'tissemsilt', 'relizane', 'mostaganem', 'saida', 'oran', 'sidi bel abbes', 'tlemcen', 'in salah', 'beni abbes', 'tindouf']\n",
      "['saida', 'sidi bel abbes', 'oran', 'relizane', 'mostaganem', 'tlemcen', 'tissemsilt', 'alger', 'bouira', 'tizi ouzou', 'ouled djellal', 'bejaia', 'setif', 'batna', 'mila', 'constantine', 'beni abbes', 'el tarf', 'in salah', 'tindouf']\n",
      "['alger', 'bouira', 'tizi ouzou', 'tissemsilt', 'bejaia', 'relizane', 'setif', 'mostaganem', 'mila', 'batna', 'constantine', 'ouled djellal', 'saida', 'oran', 'sidi bel abbes', 'el tarf', 'tlemcen', 'beni abbes', 'in salah', 'tindouf']\n",
      "['setif', 'mila', 'bejaia', 'batna', 'constantine', 'tizi ouzou', 'bouira', 'alger', 'ouled djellal', 'el tarf', 'tissemsilt', 'relizane', 'mostaganem', 'saida', 'oran', 'sidi bel abbes', 'tlemcen', 'in salah', 'beni abbes', 'tindouf']\n",
      "['tlemcen', 'sidi bel abbes', 'oran', 'saida', 'mostaganem', 'relizane', 'tissemsilt', 'alger', 'bouira', 'tizi ouzou', 'ouled djellal', 'bejaia', 'setif', 'batna', 'beni abbes', 'mila', 'constantine', 'el tarf', 'tindouf', 'in salah']\n",
      "['relizane', 'mostaganem', 'tissemsilt', 'saida', 'oran', 'sidi bel abbes', 'alger', 'tlemcen', 'bouira', 'tizi ouzou', 'bejaia', 'ouled djellal', 'setif', 'batna', 'mila', 'constantine', 'el tarf', 'beni abbes', 'in salah', 'tindouf']\n",
      "['el tarf', 'constantine', 'mila', 'setif', 'batna', 'bejaia', 'tizi ouzou', 'bouira', 'ouled djellal', 'alger', 'tissemsilt', 'relizane', 'mostaganem', 'saida', 'oran', 'sidi bel abbes', 'tlemcen', 'in salah', 'beni abbes', 'tindouf']\n",
      "['bouira', 'tizi ouzou', 'alger', 'bejaia', 'setif', 'batna', 'tissemsilt', 'mila', 'constantine', 'ouled djellal', 'relizane', 'mostaganem', 'saida', 'el tarf', 'oran', 'sidi bel abbes', 'tlemcen', 'in salah', 'beni abbes', 'tindouf']\n",
      "['sidi bel abbes', 'saida', 'tlemcen', 'oran', 'mostaganem', 'relizane', 'tissemsilt', 'alger', 'bouira', 'tizi ouzou', 'ouled djellal', 'bejaia', 'setif', 'batna', 'mila', 'beni abbes', 'constantine', 'el tarf', 'in salah', 'tindouf']\n",
      "['bouira', 'tizi ouzou', 'alger', 'bejaia', 'setif', 'batna', 'tissemsilt', 'mila', 'constantine', 'ouled djellal', 'relizane', 'mostaganem', 'saida', 'el tarf', 'oran', 'sidi bel abbes', 'tlemcen', 'in salah', 'beni abbes', 'tindouf']\n",
      "['tindouf', 'beni abbes', 'tlemcen', 'sidi bel abbes', 'in salah', 'saida', 'oran', 'mostaganem', 'relizane', 'tissemsilt', 'ouled djellal', 'alger', 'bouira', 'tizi ouzou', 'batna', 'setif', 'bejaia', 'mila', 'constantine', 'el tarf']\n",
      "['mostaganem', 'relizane', 'oran', 'tissemsilt', 'saida', 'sidi bel abbes', 'tlemcen', 'alger', 'bouira', 'tizi ouzou', 'bejaia', 'setif', 'ouled djellal', 'batna', 'mila', 'constantine', 'el tarf', 'beni abbes', 'in salah', 'tindouf']\n",
      "['saida', 'sidi bel abbes', 'oran', 'relizane', 'mostaganem', 'tlemcen', 'tissemsilt', 'alger', 'bouira', 'tizi ouzou', 'ouled djellal', 'bejaia', 'setif', 'batna', 'mila', 'constantine', 'beni abbes', 'el tarf', 'in salah', 'tindouf']\n",
      "['relizane', 'mostaganem', 'tissemsilt', 'saida', 'oran', 'sidi bel abbes', 'alger', 'tlemcen', 'bouira', 'tizi ouzou', 'bejaia', 'ouled djellal', 'setif', 'batna', 'mila', 'constantine', 'el tarf', 'beni abbes', 'in salah', 'tindouf']\n",
      "['setif', 'mila', 'bejaia', 'batna', 'constantine', 'tizi ouzou', 'bouira', 'alger', 'ouled djellal', 'el tarf', 'tissemsilt', 'relizane', 'mostaganem', 'saida', 'oran', 'sidi bel abbes', 'tlemcen', 'in salah', 'beni abbes', 'tindouf']\n",
      "['mila', 'constantine', 'setif', 'batna', 'bejaia', 'el tarf', 'tizi ouzou', 'bouira', 'ouled djellal', 'alger', 'tissemsilt', 'relizane', 'mostaganem', 'saida', 'oran', 'sidi bel abbes', 'tlemcen', 'in salah', 'beni abbes', 'tindouf']\n",
      "['setif', 'mila', 'bejaia', 'batna', 'constantine', 'tizi ouzou', 'bouira', 'alger', 'ouled djellal', 'el tarf', 'tissemsilt', 'relizane', 'mostaganem', 'saida', 'oran', 'sidi bel abbes', 'tlemcen', 'in salah', 'beni abbes', 'tindouf']\n",
      "['saida', 'sidi bel abbes', 'oran', 'relizane', 'mostaganem', 'tlemcen', 'tissemsilt', 'alger', 'bouira', 'tizi ouzou', 'ouled djellal', 'bejaia', 'setif', 'batna', 'mila', 'constantine', 'beni abbes', 'el tarf', 'in salah', 'tindouf']\n",
      "['batna', 'setif', 'mila', 'constantine', 'ouled djellal', 'bejaia', 'bouira', 'tizi ouzou', 'el tarf', 'alger', 'tissemsilt', 'relizane', 'mostaganem', 'saida', 'sidi bel abbes', 'oran', 'tlemcen', 'in salah', 'beni abbes', 'tindouf']\n",
      "['oran', 'mostaganem', 'tlemcen', 'sidi bel abbes', 'saida', 'relizane', 'tissemsilt', 'alger', 'bouira', 'tizi ouzou', 'bejaia', 'ouled djellal', 'setif', 'batna', 'mila', 'constantine', 'beni abbes', 'el tarf', 'in salah', 'tindouf']\n",
      "['in salah', 'beni abbes', 'ouled djellal', 'saida', 'sidi bel abbes', 'batna', 'tissemsilt', 'tindouf', 'tlemcen', 'relizane', 'bouira', 'setif', 'mostaganem', 'oran', 'mila', 'tizi ouzou', 'constantine', 'alger', 'bejaia', 'el tarf']\n",
      "['beni abbes', 'tindouf', 'in salah', 'tlemcen', 'sidi bel abbes', 'saida', 'oran', 'mostaganem', 'relizane', 'tissemsilt', 'ouled djellal', 'bouira', 'alger', 'batna', 'tizi ouzou', 'setif', 'bejaia', 'mila', 'constantine', 'el tarf']\n",
      "['ouled djellal', 'batna', 'setif', 'bouira', 'mila', 'tizi ouzou', 'bejaia', 'constantine', 'tissemsilt', 'alger', 'relizane', 'el tarf', 'saida', 'mostaganem', 'sidi bel abbes', 'oran', 'tlemcen', 'in salah', 'beni abbes', 'tindouf']\n",
      "['el tarf', 'constantine', 'mila', 'setif', 'batna', 'bejaia', 'tizi ouzou', 'bouira', 'ouled djellal', 'alger', 'tissemsilt', 'relizane', 'mostaganem', 'saida', 'oran', 'sidi bel abbes', 'tlemcen', 'in salah', 'beni abbes', 'tindouf']\n",
      "['batna', 'setif', 'mila', 'constantine', 'ouled djellal', 'bejaia', 'bouira', 'tizi ouzou', 'el tarf', 'alger', 'tissemsilt', 'relizane', 'mostaganem', 'saida', 'sidi bel abbes', 'oran', 'tlemcen', 'in salah', 'beni abbes', 'tindouf']\n",
      "['tizi ouzou', 'bouira', 'bejaia', 'alger', 'setif', 'mila', 'batna', 'constantine', 'tissemsilt', 'ouled djellal', 'relizane', 'el tarf', 'mostaganem', 'saida', 'oran', 'sidi bel abbes', 'tlemcen', 'in salah', 'beni abbes', 'tindouf']\n"
     ]
    }
   ],
   "source": [
    "for  i in range(df.shape[0]):\n",
    "    for d in dists:\n",
    "        for l in d:\n",
    "            if l == df.loc[i,'City']:\n",
    "                print(d[l])\n",
    "                t=''\n",
    "                for r in d[l]:\n",
    "                    t=t+' '+r\n",
    "                df.loc[i,'nearest distance'] = t   \n",
    "    "
   ]
  },
  {
   "cell_type": "code",
   "execution_count": 126,
   "metadata": {},
   "outputs": [
    {
     "data": {
      "text/html": [
       "<div>\n",
       "<style scoped>\n",
       "    .dataframe tbody tr th:only-of-type {\n",
       "        vertical-align: middle;\n",
       "    }\n",
       "\n",
       "    .dataframe tbody tr th {\n",
       "        vertical-align: top;\n",
       "    }\n",
       "\n",
       "    .dataframe thead th {\n",
       "        text-align: right;\n",
       "    }\n",
       "</style>\n",
       "<table border=\"1\" class=\"dataframe\">\n",
       "  <thead>\n",
       "    <tr style=\"text-align: right;\">\n",
       "      <th></th>\n",
       "      <th>Sector</th>\n",
       "      <th>Label</th>\n",
       "      <th>Address</th>\n",
       "      <th>Activities/Services</th>\n",
       "      <th>nearest distance</th>\n",
       "      <th>Postal Code</th>\n",
       "      <th>Phone Number</th>\n",
       "      <th>Creation Year</th>\n",
       "      <th>Number of Employees</th>\n",
       "      <th>City</th>\n",
       "      <th>Website</th>\n",
       "      <th>Entreprise Type</th>\n",
       "      <th>Email</th>\n",
       "    </tr>\n",
       "  </thead>\n",
       "  <tbody>\n",
       "    <tr>\n",
       "      <th>0</th>\n",
       "      <td>Industrie</td>\n",
       "      <td>AErM DISTRIBUTION</td>\n",
       "      <td>Z.I des Eucalyptus,  , ALGER, 16000, Algeria.</td>\n",
       "      <td>Importation et distribution de PDR poids lourd...</td>\n",
       "      <td>alger bouira tizi ouzou tissemsilt bejaia rel...</td>\n",
       "      <td>16000</td>\n",
       "      <td>+213550416703</td>\n",
       "      <td>2010</td>\n",
       "      <td></td>\n",
       "      <td>alger</td>\n",
       "      <td>http://www.am-company.com</td>\n",
       "      <td>SARL</td>\n",
       "      <td>info@am-company.com</td>\n",
       "    </tr>\n",
       "    <tr>\n",
       "      <th>1</th>\n",
       "      <td>Industrie</td>\n",
       "      <td>AD MOTORS</td>\n",
       "      <td>N°32, Zone industrielle  , Alger , 16000, Alge...</td>\n",
       "      <td>équipements de chauffage</td>\n",
       "      <td>alger bouira tizi ouzou tissemsilt bejaia rel...</td>\n",
       "      <td>16000</td>\n",
       "      <td>+21321526293</td>\n",
       "      <td>2010</td>\n",
       "      <td></td>\n",
       "      <td>alger</td>\n",
       "      <td>admotors-dz.com</td>\n",
       "      <td>SARL</td>\n",
       "      <td>y.hammoutene@admotors-dz.com</td>\n",
       "    </tr>\n",
       "  </tbody>\n",
       "</table>\n",
       "</div>"
      ],
      "text/plain": [
       "      Sector              Label  \\\n",
       "0  Industrie  AErM DISTRIBUTION   \n",
       "1  Industrie          AD MOTORS   \n",
       "\n",
       "                                             Address  \\\n",
       "0      Z.I des Eucalyptus,  , ALGER, 16000, Algeria.   \n",
       "1  N°32, Zone industrielle  , Alger , 16000, Alge...   \n",
       "\n",
       "                                 Activities/Services  \\\n",
       "0  Importation et distribution de PDR poids lourd...   \n",
       "1                           équipements de chauffage   \n",
       "\n",
       "                                    nearest distance Postal Code  \\\n",
       "0   alger bouira tizi ouzou tissemsilt bejaia rel...       16000   \n",
       "1   alger bouira tizi ouzou tissemsilt bejaia rel...       16000   \n",
       "\n",
       "    Phone Number  Creation Year Number of Employees   City  \\\n",
       "0  +213550416703           2010                      alger   \n",
       "1   +21321526293           2010                      alger   \n",
       "\n",
       "                     Website Entreprise Type                         Email  \n",
       "0  http://www.am-company.com            SARL           info@am-company.com  \n",
       "1            admotors-dz.com            SARL  y.hammoutene@admotors-dz.com  "
      ]
     },
     "execution_count": 126,
     "metadata": {},
     "output_type": "execute_result"
    }
   ],
   "source": [
    "df.head(2)"
   ]
  },
  {
   "cell_type": "code",
   "execution_count": 127,
   "metadata": {},
   "outputs": [],
   "source": [
    "df.drop(['Postal Code', 'Number of Employees'], axis=1, inplace=True)"
   ]
  },
  {
   "cell_type": "code",
   "execution_count": 128,
   "metadata": {},
   "outputs": [
    {
     "data": {
      "text/html": [
       "<div>\n",
       "<style scoped>\n",
       "    .dataframe tbody tr th:only-of-type {\n",
       "        vertical-align: middle;\n",
       "    }\n",
       "\n",
       "    .dataframe tbody tr th {\n",
       "        vertical-align: top;\n",
       "    }\n",
       "\n",
       "    .dataframe thead th {\n",
       "        text-align: right;\n",
       "    }\n",
       "</style>\n",
       "<table border=\"1\" class=\"dataframe\">\n",
       "  <thead>\n",
       "    <tr style=\"text-align: right;\">\n",
       "      <th></th>\n",
       "      <th>Sector</th>\n",
       "      <th>Label</th>\n",
       "      <th>Address</th>\n",
       "      <th>Activities/Services</th>\n",
       "      <th>nearest distance</th>\n",
       "      <th>Phone Number</th>\n",
       "      <th>Creation Year</th>\n",
       "      <th>City</th>\n",
       "      <th>Website</th>\n",
       "      <th>Entreprise Type</th>\n",
       "      <th>Email</th>\n",
       "    </tr>\n",
       "  </thead>\n",
       "  <tbody>\n",
       "    <tr>\n",
       "      <th>0</th>\n",
       "      <td>Industrie</td>\n",
       "      <td>AErM DISTRIBUTION</td>\n",
       "      <td>Z.I des Eucalyptus,  , ALGER, 16000, Algeria.</td>\n",
       "      <td>Importation et distribution de PDR poids lourd...</td>\n",
       "      <td>alger bouira tizi ouzou tissemsilt bejaia rel...</td>\n",
       "      <td>+213550416703</td>\n",
       "      <td>2010</td>\n",
       "      <td>alger</td>\n",
       "      <td>http://www.am-company.com</td>\n",
       "      <td>SARL</td>\n",
       "      <td>info@am-company.com</td>\n",
       "    </tr>\n",
       "    <tr>\n",
       "      <th>1</th>\n",
       "      <td>Industrie</td>\n",
       "      <td>AD MOTORS</td>\n",
       "      <td>N°32, Zone industrielle  , Alger , 16000, Alge...</td>\n",
       "      <td>équipements de chauffage</td>\n",
       "      <td>alger bouira tizi ouzou tissemsilt bejaia rel...</td>\n",
       "      <td>+21321526293</td>\n",
       "      <td>2010</td>\n",
       "      <td>alger</td>\n",
       "      <td>admotors-dz.com</td>\n",
       "      <td>SARL</td>\n",
       "      <td>y.hammoutene@admotors-dz.com</td>\n",
       "    </tr>\n",
       "  </tbody>\n",
       "</table>\n",
       "</div>"
      ],
      "text/plain": [
       "      Sector              Label  \\\n",
       "0  Industrie  AErM DISTRIBUTION   \n",
       "1  Industrie          AD MOTORS   \n",
       "\n",
       "                                             Address  \\\n",
       "0      Z.I des Eucalyptus,  , ALGER, 16000, Algeria.   \n",
       "1  N°32, Zone industrielle  , Alger , 16000, Alge...   \n",
       "\n",
       "                                 Activities/Services  \\\n",
       "0  Importation et distribution de PDR poids lourd...   \n",
       "1                           équipements de chauffage   \n",
       "\n",
       "                                    nearest distance   Phone Number  \\\n",
       "0   alger bouira tizi ouzou tissemsilt bejaia rel...  +213550416703   \n",
       "1   alger bouira tizi ouzou tissemsilt bejaia rel...   +21321526293   \n",
       "\n",
       "   Creation Year   City                    Website Entreprise Type  \\\n",
       "0           2010  alger  http://www.am-company.com            SARL   \n",
       "1           2010  alger            admotors-dz.com            SARL   \n",
       "\n",
       "                          Email  \n",
       "0           info@am-company.com  \n",
       "1  y.hammoutene@admotors-dz.com  "
      ]
     },
     "execution_count": 128,
     "metadata": {},
     "output_type": "execute_result"
    }
   ],
   "source": [
    "df.head(2)"
   ]
  },
  {
   "cell_type": "code",
   "execution_count": 125,
   "metadata": {},
   "outputs": [],
   "source": [
    "df.to_csv('data.csv')"
   ]
  },
  {
   "cell_type": "code",
   "execution_count": 75,
   "metadata": {},
   "outputs": [
    {
     "name": "stdout",
     "output_type": "stream",
     "text": [
      "      Sector                                              Label  \\\n",
      "6  Industrie  BOURSE ALGERIENNE DE SOUS-TRAITANCE ET DE PART...   \n",
      "\n",
      "                                             Address  \\\n",
      "6  Cité Sider, Le Paradou,  , Alger, 16000, Algeria.   \n",
      "\n",
      "        Activities/Services  \\\n",
      "6  Association . Organisme.   \n",
      "\n",
      "                                    nearest distance Postal Code  \\\n",
      "6   alger bouira tizi ouzou tissemsilt bejaia rel...       16000   \n",
      "\n",
      "   Phone Number  Creation Year Number of Employees   City Website  \\\n",
      "6  +21323534227           2010                      alger           \n",
      "\n",
      "  Entreprise Type                  Email  \n",
      "6            SARL  bastpcentre@gmail.com  \n"
     ]
    }
   ],
   "source": [
    "selected_wilaya = 'alger'\n",
    "products = 'Association . Organisme.'\n",
    "# Call the wilaya2 function to filter the DataFrame\n",
    "result_df = wilaya2(selected_wilaya, products)\n",
    "print(result_df)"
   ]
  },
  {
   "cell_type": "markdown",
   "metadata": {},
   "source": []
  },
  {
   "cell_type": "code",
   "execution_count": 131,
   "metadata": {},
   "outputs": [
    {
     "name": "stdout",
     "output_type": "stream",
     "text": [
      "['alger', 'bouira', 'tizi ouzou', 'tissemsilt', 'bejaia']\n",
      "['tissemsilt', 'relizane', 'mostaganem', 'alger', 'saida']\n",
      "['mila', 'constantine', 'setif', 'batna', 'bejaia']\n",
      "['bejaia', 'setif', 'tizi ouzou', 'mila', 'bouira']\n",
      "['constantine', 'mila', 'setif', 'el tarf', 'batna']\n",
      "['saida', 'sidi bel abbes', 'oran', 'relizane', 'mostaganem']\n",
      "['setif', 'mila', 'bejaia', 'batna', 'constantine']\n",
      "['tlemcen', 'sidi bel abbes', 'oran', 'saida', 'mostaganem']\n",
      "['relizane', 'mostaganem', 'tissemsilt', 'saida', 'oran']\n",
      "['el tarf', 'constantine', 'mila', 'setif', 'batna']\n",
      "['bouira', 'tizi ouzou', 'alger', 'bejaia', 'setif']\n",
      "['sidi bel abbes', 'saida', 'tlemcen', 'oran', 'mostaganem']\n",
      "['tindouf', 'beni abbes', 'tlemcen', 'sidi bel abbes', 'in salah']\n",
      "['mostaganem', 'relizane', 'oran', 'tissemsilt', 'saida']\n",
      "['batna', 'setif', 'mila', 'constantine', 'ouled djellal']\n",
      "['oran', 'mostaganem', 'tlemcen', 'sidi bel abbes', 'saida']\n",
      "['in salah', 'beni abbes', 'ouled djellal', 'saida', 'sidi bel abbes']\n",
      "['beni abbes', 'tindouf', 'in salah', 'tlemcen', 'sidi bel abbes']\n",
      "['ouled djellal', 'batna', 'setif', 'bouira', 'mila']\n",
      "['tizi ouzou', 'bouira', 'bejaia', 'alger', 'setif']\n"
     ]
    }
   ],
   "source": [
    "for m in dists:\n",
    "    for i in m:\n",
    "        print(m[i][:5])"
   ]
  },
  {
   "cell_type": "code",
   "execution_count": 149,
   "metadata": {},
   "outputs": [],
   "source": [
    "def wilaya2(selected_wilaya, products):\n",
    "    j=0\n",
    "    k=1\n",
    "    while(j <len(dists) and k == 1):\n",
    "        for i in dists[j]:\n",
    "            if i == selected_wilaya:\n",
    "                b=dists[j][i][:5] \n",
    "                k=0\n",
    "        j=j+1\n",
    "    a=[]\n",
    "    # filtered_df = df[df['City'].str.strip() == selected_wilaya]['nearest distance'].values[0].split()[:5]\n",
    "    for i in b:\n",
    "        addresses=df[(df['City'].str.strip() == i) & (df['Activities/Services'].str.strip() == products)]['Address']\n",
    "        a.append(addresses)\n",
    "    return a\n",
    "# Sector\tLabel\tAddress\tActivities/Services\tnearest distance\tPostal Code\tPhone Number\tCreation Year\tNumber of Employees\tCit"
   ]
  },
  {
   "cell_type": "code",
   "execution_count": 150,
   "metadata": {},
   "outputs": [
    {
     "name": "stdout",
     "output_type": "stream",
     "text": [
      "['alger', 'bouira', 'tizi ouzou', 'tissemsilt', 'bejaia']\n"
     ]
    },
    {
     "data": {
      "text/plain": [
       "[1    N°32, Zone industrielle  , Alger , 16000, Alge...\n",
       " Name: Address, dtype: object,\n",
       " Series([], Name: Address, dtype: object),\n",
       " Series([], Name: Address, dtype: object),\n",
       " Series([], Name: Address, dtype: object),\n",
       " Series([], Name: Address, dtype: object)]"
      ]
     },
     "execution_count": 150,
     "metadata": {},
     "output_type": "execute_result"
    }
   ],
   "source": [
    "wilaya2('alger','équipements de chauffage')"
   ]
  }
 ],
 "metadata": {
  "kernelspec": {
   "display_name": "Python 3",
   "language": "python",
   "name": "python3"
  },
  "language_info": {
   "codemirror_mode": {
    "name": "ipython",
    "version": 3
   },
   "file_extension": ".py",
   "mimetype": "text/x-python",
   "name": "python",
   "nbconvert_exporter": "python",
   "pygments_lexer": "ipython3",
   "version": "3.11.2"
  }
 },
 "nbformat": 4,
 "nbformat_minor": 2
}
