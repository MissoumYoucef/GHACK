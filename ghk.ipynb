{
 "cells": [
  {
   "cell_type": "code",
   "execution_count": 1,
   "metadata": {},
   "outputs": [
    {
     "name": "stdout",
     "output_type": "stream",
     "text": [
      "Requirement already satisfied: geopy in c:\\users\\misso\\appdata\\local\\programs\\python\\python311\\lib\\site-packages (2.4.1)\n",
      "Requirement already satisfied: geographiclib<3,>=1.52 in c:\\users\\misso\\appdata\\local\\programs\\python\\python311\\lib\\site-packages (from geopy) (2.0)\n"
     ]
    }
   ],
   "source": [
    "! pip install geopy"
   ]
  },
  {
   "cell_type": "code",
   "execution_count": 31,
   "metadata": {},
   "outputs": [],
   "source": [
    "import pandas as pd\n",
    "import numpy as np\n",
    "from flask import Flask, request, jsonify"
   ]
  },
  {
   "cell_type": "code",
   "execution_count": 17,
   "metadata": {},
   "outputs": [],
   "source": [
    "df = pd.read_csv('data.csv')"
   ]
  },
  {
   "cell_type": "code",
   "execution_count": 18,
   "metadata": {},
   "outputs": [
    {
     "data": {
      "text/html": [
       "<div>\n",
       "<style scoped>\n",
       "    .dataframe tbody tr th:only-of-type {\n",
       "        vertical-align: middle;\n",
       "    }\n",
       "\n",
       "    .dataframe tbody tr th {\n",
       "        vertical-align: top;\n",
       "    }\n",
       "\n",
       "    .dataframe thead th {\n",
       "        text-align: right;\n",
       "    }\n",
       "</style>\n",
       "<table border=\"1\" class=\"dataframe\">\n",
       "  <thead>\n",
       "    <tr style=\"text-align: right;\">\n",
       "      <th></th>\n",
       "      <th>Sector</th>\n",
       "      <th>Label</th>\n",
       "      <th>Address</th>\n",
       "      <th>Activities/Services</th>\n",
       "      <th>Phone Number</th>\n",
       "      <th>Creation Year</th>\n",
       "      <th>City</th>\n",
       "      <th>Website</th>\n",
       "      <th>Entreprise Type</th>\n",
       "      <th>Email</th>\n",
       "    </tr>\n",
       "  </thead>\n",
       "  <tbody>\n",
       "    <tr>\n",
       "      <th>0</th>\n",
       "      <td>Industrie</td>\n",
       "      <td>AErM DISTRIBUTION</td>\n",
       "      <td>Z.I des Eucalyptus,  , ALGER, 16000, Algeria.</td>\n",
       "      <td>Importation et distribution de PDR poids lourd...</td>\n",
       "      <td>+213550416703</td>\n",
       "      <td>2010</td>\n",
       "      <td>alger</td>\n",
       "      <td>http://www.am-company.com</td>\n",
       "      <td>SARL</td>\n",
       "      <td>info@am-company.com</td>\n",
       "    </tr>\n",
       "    <tr>\n",
       "      <th>1</th>\n",
       "      <td>Industrie</td>\n",
       "      <td>AD MOTORS</td>\n",
       "      <td>N°32, Zone industrielle  , Alger , 16000, Alge...</td>\n",
       "      <td>équipements de chauffage</td>\n",
       "      <td>+21321526293</td>\n",
       "      <td>2010</td>\n",
       "      <td>alger</td>\n",
       "      <td>admotors-dz.com</td>\n",
       "      <td>SARL</td>\n",
       "      <td>y.hammoutene@admotors-dz.com</td>\n",
       "    </tr>\n",
       "    <tr>\n",
       "      <th>2</th>\n",
       "      <td>Industrie</td>\n",
       "      <td>AFRIQUE ENGINS SARL</td>\n",
       "      <td>Coopérative Camps li N°  , Alger, 16000, Algeria.</td>\n",
       "      <td>Importation et distribution de pièces de recha...</td>\n",
       "      <td>+21323707272</td>\n",
       "      <td>2010</td>\n",
       "      <td>alger</td>\n",
       "      <td>NaN</td>\n",
       "      <td>SARL</td>\n",
       "      <td>africengines@yahoo.fr</td>\n",
       "    </tr>\n",
       "    <tr>\n",
       "      <th>3</th>\n",
       "      <td>Industrie</td>\n",
       "      <td>ARIBI IMPORT EURL</td>\n",
       "      <td>Local N°2 Ouled Addi  , MÔÇÖsila, 28014, Algeria.</td>\n",
       "      <td>équipements et accessoires pour véhicules • Or...</td>\n",
       "      <td>+21335598327</td>\n",
       "      <td>2010</td>\n",
       "      <td>alger</td>\n",
       "      <td>hotmail.com</td>\n",
       "      <td>SARL</td>\n",
       "      <td>eurlaribi@hotmail.com</td>\n",
       "    </tr>\n",
       "    <tr>\n",
       "      <th>4</th>\n",
       "      <td>Industrie</td>\n",
       "      <td>AUTO PARTS EURL</td>\n",
       "      <td>Cité Douzi 04 n°09, Bab ezouar,  Alger, 16000,...</td>\n",
       "      <td>Matériel informatique.</td>\n",
       "      <td>+213550543083</td>\n",
       "      <td>2010</td>\n",
       "      <td>alger</td>\n",
       "      <td>NaN</td>\n",
       "      <td>SARL</td>\n",
       "      <td>hamia.nacer@gmail.com</td>\n",
       "    </tr>\n",
       "  </tbody>\n",
       "</table>\n",
       "</div>"
      ],
      "text/plain": [
       "      Sector                Label  \\\n",
       "0  Industrie    AErM DISTRIBUTION   \n",
       "1  Industrie            AD MOTORS   \n",
       "2  Industrie  AFRIQUE ENGINS SARL   \n",
       "3  Industrie    ARIBI IMPORT EURL   \n",
       "4  Industrie      AUTO PARTS EURL   \n",
       "\n",
       "                                             Address  \\\n",
       "0      Z.I des Eucalyptus,  , ALGER, 16000, Algeria.   \n",
       "1  N°32, Zone industrielle  , Alger , 16000, Alge...   \n",
       "2  Coopérative Camps li N°  , Alger, 16000, Algeria.   \n",
       "3  Local N°2 Ouled Addi  , MÔÇÖsila, 28014, Algeria.   \n",
       "4  Cité Douzi 04 n°09, Bab ezouar,  Alger, 16000,...   \n",
       "\n",
       "                                 Activities/Services   Phone Number  \\\n",
       "0  Importation et distribution de PDR poids lourd...  +213550416703   \n",
       "1                           équipements de chauffage   +21321526293   \n",
       "2  Importation et distribution de pièces de recha...   +21323707272   \n",
       "3  équipements et accessoires pour véhicules • Or...   +21335598327   \n",
       "4                             Matériel informatique.  +213550543083   \n",
       "\n",
       "   Creation Year   City                    Website Entreprise Type  \\\n",
       "0           2010  alger  http://www.am-company.com            SARL   \n",
       "1           2010  alger            admotors-dz.com            SARL   \n",
       "2           2010  alger                        NaN            SARL   \n",
       "3           2010  alger                hotmail.com            SARL   \n",
       "4           2010  alger                        NaN            SARL   \n",
       "\n",
       "                          Email  \n",
       "0           info@am-company.com  \n",
       "1  y.hammoutene@admotors-dz.com  \n",
       "2         africengines@yahoo.fr  \n",
       "3         eurlaribi@hotmail.com  \n",
       "4         hamia.nacer@gmail.com  "
      ]
     },
     "execution_count": 18,
     "metadata": {},
     "output_type": "execute_result"
    }
   ],
   "source": [
    "df.head()"
   ]
  },
  {
   "cell_type": "markdown",
   "metadata": {},
   "source": [
    "We Have a problem of using google api to get distance so we make it manually"
   ]
  },
  {
   "cell_type": "code",
   "execution_count": 5,
   "metadata": {},
   "outputs": [],
   "source": [
    "from geopy.geocoders import Nominatim\n",
    "geolocator = Nominatim(user_agent=\"myuse\")\n",
    "from geopy.distance import geodesic"
   ]
  },
  {
   "cell_type": "code",
   "execution_count": 6,
   "metadata": {},
   "outputs": [
    {
     "data": {
      "text/plain": [
       "array(['alger', 'bejaia', 'tissemsilt', 'el menia', 'constantine',\n",
       "       'illizi', 'setif', 'biskra', 'tiaret', 'tlemcen', 'mascara',\n",
       "       'djelfa', 'bordj badji mokhtar', 'el oued', 'el tarf', 'batna',\n",
       "       'bechar', 'bordj bou arreridj', 'tipaza', 'mila'], dtype=object)"
      ]
     },
     "execution_count": 6,
     "metadata": {},
     "output_type": "execute_result"
    }
   ],
   "source": [
    "wilayas=df['City'].unique()\n",
    "wilayas"
   ]
  },
  {
   "cell_type": "code",
   "execution_count": 7,
   "metadata": {},
   "outputs": [
    {
     "name": "stdout",
     "output_type": "stream",
     "text": [
      "[{'alger': (36.7753606, 3.0601882)}, {'bejaia': (36.7511783, 5.0643687)}, {'tissemsilt': (35.785897500000004, 1.8340956752427218)}, {'el menia': (30.7071885, 3.048062480049727)}, {'constantine': (36.3641642, 6.6084281)}, {'illizi': (27.852850500000002, 7.8189636047396895)}, {'setif': (36.1895852, 5.4024656)}, {'biskra': (34.784563500000004, 5.812435334419206)}, {'tiaret': (34.8947575, 1.594579173136212)}, {'tlemcen': (34.881789, -1.316699)}, {'mascara': (35.397838500000006, 0.24301949927219488)}, {'djelfa': (34.342841, 3.217253079090331)}, {'bordj badji mokhtar': (22.626146050000003, 0.12758168507861467)}, {'el oued': (33.215441, 7.155321399098325)}, {'el tarf': (36.67135625, 8.070134002053635)}, {'batna': (35.3384291, 5.731545299000572)}, {'bechar': (31.385726, -2.011595847987405)}, {'bordj bou arreridj': (36.09620285, 4.660274234539607)}, {'tipaza': (36.527157, 2.1672011802712086)}, {'mila': (36.2502135, 6.165216333385166)}]\n"
     ]
    }
   ],
   "source": [
    "coordinates=[]\n",
    "for i in wilayas:\n",
    "    if geolocator.geocode(i)!=None:\n",
    "        coordinates.append({i:(geolocator.geocode(i).latitude, geolocator.geocode(i).longitude)})\n",
    "print(coordinates)"
   ]
  },
  {
   "cell_type": "code",
   "execution_count": 8,
   "metadata": {},
   "outputs": [
    {
     "data": {
      "text/plain": [
       "{'bejaia': [{'bejaia': 0.0},\n",
       "  {'setif': 69.2951234844098},\n",
       "  {'bordj bou arreridj': 81.21376051575928},\n",
       "  {'mila': 113.21244302192774},\n",
       "  {'constantine': 144.74707686046747},\n",
       "  {'batna': 167.89062178192145},\n",
       "  {'alger': 178.9638310271025},\n",
       "  {'biskra': 228.44752640971834},\n",
       "  {'tipaza': 260.27484796506826},\n",
       "  {'el tarf': 268.69141310176843},\n",
       "  {'tissemsilt': 309.3739853825716},\n",
       "  {'djelfa': 315.342677063474},\n",
       "  {'tiaret': 375.1095733643548},\n",
       "  {'el oued': 436.2162276318124},\n",
       "  {'mascara': 459.463227806316},\n",
       "  {'tlemcen': 612.6812384203905},\n",
       "  {'el menia': 695.8879216488067},\n",
       "  {'bechar': 883.1499614528165},\n",
       "  {'illizi': 1020.1496322120685},\n",
       "  {'bordj badji mokhtar': 1636.3336141098052}]}"
      ]
     },
     "execution_count": 8,
     "metadata": {},
     "output_type": "execute_result"
    }
   ],
   "source": [
    "distances=[]\n",
    "for i in coordinates:\n",
    "    b=[]\n",
    "    for j in coordinates:\n",
    "        for c in i:\n",
    "            for k in j:\n",
    "                b.append({k:geodesic(i[c], j[k]).kilometers})\n",
    "        sorted_data = sorted(b, key=lambda x: next(iter(x.values())))\n",
    "    for c in i:\n",
    "        distances.append({c:sorted_data})\n",
    "distances[1]"
   ]
  },
  {
   "cell_type": "code",
   "execution_count": 9,
   "metadata": {},
   "outputs": [
    {
     "data": {
      "text/plain": [
       "{'bejaia': ['bejaia',\n",
       "  'setif',\n",
       "  'bordj bou arreridj',\n",
       "  'mila',\n",
       "  'constantine',\n",
       "  'batna',\n",
       "  'alger',\n",
       "  'biskra',\n",
       "  'tipaza',\n",
       "  'el tarf',\n",
       "  'tissemsilt',\n",
       "  'djelfa',\n",
       "  'tiaret',\n",
       "  'el oued',\n",
       "  'mascara',\n",
       "  'tlemcen',\n",
       "  'el menia',\n",
       "  'bechar',\n",
       "  'illizi',\n",
       "  'bordj badji mokhtar']}"
      ]
     },
     "execution_count": 9,
     "metadata": {},
     "output_type": "execute_result"
    }
   ],
   "source": [
    "dists=[]\n",
    "for i in distances:\n",
    "    b=[]\n",
    "    for j in i:\n",
    "        for k in i[j]:\n",
    "            for d in k:\n",
    "                b.append(d)\n",
    "        dists.append({j:b})\n",
    "dists[1]"
   ]
  },
  {
   "cell_type": "markdown",
   "metadata": {},
   "source": [
    "We will suggest suppliers to client based on Best Distance and Products "
   ]
  },
  {
   "cell_type": "code",
   "execution_count": 1,
   "metadata": {},
   "outputs": [],
   "source": [
    "def AddressesListOfBestSuppliers(selected_wilaya, products):\n",
    "\n",
    "    #Get top 5 distances for each supplier\n",
    "    j=0\n",
    "    k=1\n",
    "    while(j <len(dists) and k == 1):\n",
    "        for i in dists[j]:\n",
    "            if i == selected_wilaya:\n",
    "                b=dists[j][i][:5] \n",
    "                k=0\n",
    "        j=j+1\n",
    "    a=[]\n",
    "\n",
    "    for i in b:\n",
    "        addresses=df[(df['City'].str.strip() == i) & (df['Activities/Services'].str.strip() == products)]['Address'].values\n",
    "        a.append(addresses)\n",
    "    return a\n"
   ]
  },
  {
   "cell_type": "code",
   "execution_count": 30,
   "metadata": {},
   "outputs": [
    {
     "data": {
      "text/plain": [
       "[array(['N°32, Zone industrielle  , Alger , 16000, Algeria.'], dtype=object),\n",
       " array([], dtype=object),\n",
       " array([], dtype=object),\n",
       " array([], dtype=object),\n",
       " array([], dtype=object)]"
      ]
     },
     "execution_count": 30,
     "metadata": {},
     "output_type": "execute_result"
    }
   ],
   "source": [
    "AddressesListOfBestSuppliers('alger','équipements de chauffage')"
   ]
  },
  {
   "cell_type": "code",
   "execution_count": null,
   "metadata": {},
   "outputs": [],
   "source": [
    "@app.route('/GetBestSupliers', methods=['GET'])\n",
    "def filter_data():\n",
    "    # Get parameters from the request\n",
    "    selected_wilaya = request.args.get('wilaya')\n",
    "    products = request.args.get('product')\n",
    "\n",
    "    selected_wilaya = 'alger'\n",
    "    products = 'Association . Organisme.'\n",
    "    # Call the wilaya2 function to filter the DataFrame\n",
    "    result_df = wilaya2(selected_wilaya, products)\n",
    "    print(result_df)\n",
    "    # Convert the filtered DataFrame to a JSON response\n",
    "    return jsonify(result_df.to_dict(orient='records'))\n",
    "\n",
    "if __name__ == '__main__':\n",
    "    app.run(debug=True)"
   ]
  }
 ],
 "metadata": {
  "kernelspec": {
   "display_name": "Python 3",
   "language": "python",
   "name": "python3"
  },
  "language_info": {
   "codemirror_mode": {
    "name": "ipython",
    "version": 3
   },
   "file_extension": ".py",
   "mimetype": "text/x-python",
   "name": "python",
   "nbconvert_exporter": "python",
   "pygments_lexer": "ipython3",
   "version": "3.11.2"
  }
 },
 "nbformat": 4,
 "nbformat_minor": 2
}
